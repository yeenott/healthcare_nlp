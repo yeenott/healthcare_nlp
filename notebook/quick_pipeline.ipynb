{
 "cells": [
  {
   "cell_type": "code",
   "execution_count": 1,
   "id": "exclusive-calculation",
   "metadata": {},
   "outputs": [],
   "source": [
    "import json\n",
    "import pandas as pd\n",
    "import numpy as np\n",
    "\n",
    "from pyspark.ml import Pipeline\n",
    "from pyspark.sql import SparkSession\n",
    "import pyspark.sql.functions as F\n",
    "from sparknlp.annotator import *\n",
    "from sparknlp.base import *\n",
    "import sparknlp\n",
    "from sparknlp.pretrained import PretrainedPipeline\n",
    "\n",
    "spark = sparknlp.start()"
   ]
  },
  {
   "cell_type": "code",
   "execution_count": 2,
   "id": "choice-diploma",
   "metadata": {},
   "outputs": [
    {
     "name": "stdout",
     "output_type": "stream",
     "text": [
      "Spark NLP version:  3.0.1\n",
      "Apache Spark version:  3.1.1\n"
     ]
    }
   ],
   "source": [
    "print(\"Spark NLP version: \", sparknlp.version())\n",
    "print(\"Apache Spark version: \", spark.version)"
   ]
  },
  {
   "cell_type": "code",
   "execution_count": 3,
   "id": "every-power",
   "metadata": {},
   "outputs": [
    {
     "name": "stdout",
     "output_type": "stream",
     "text": [
      "glove_100d download started this may take some time.\n",
      "Approximate size to download 145.3 MB\n",
      "[OK!]\n"
     ]
    }
   ],
   "source": [
    "from pyspark.ml import Pipeline\n",
    "document_assembler = DocumentAssembler().setInputCol('text').setOutputCol('document')\n",
    "sentenceDetector = SentenceDetector().setInputCols(['document']).setOutputCol('sentences')\n",
    "tokenizer = Tokenizer().setInputCols(['sentences']).setOutputCol('token')\n",
    "normalizer = Normalizer().setInputCols(['token']).setOutputCol('normal')\n",
    "word_embeddings=WordEmbeddingsModel.pretrained().setInputCols(['document', 'normal']).setOutputCol('embeddings')\n",
    "\n",
    "nlpPipeline = Pipeline(stages=[\n",
    " document_assembler, \n",
    " sentenceDetector,\n",
    " tokenizer,\n",
    " normalizer,\n",
    " word_embeddings,\n",
    " ])\n"
   ]
  },
  {
   "cell_type": "code",
   "execution_count": null,
   "id": "academic-blood",
   "metadata": {},
   "outputs": [],
   "source": [
    "sen = [['Hello, this is an example sentence'],['And this is a second sentence.']]\n",
    "# spark is the Spark Session automatically started by pyspark.\n",
    "spark_df = spark.createDataFrame(sen, ['text'])\n",
    "spark_df.show()"
   ]
  },
  {
   "cell_type": "code",
   "execution_count": null,
   "id": "promotional-distance",
   "metadata": {},
   "outputs": [],
   "source": [
    "%time\n",
    "pipelineModel = nlpPipeline.fit(spark_df)\n",
    "result = pipelineModel.transform(spark_df)\n",
    "result.show()"
   ]
  },
  {
   "cell_type": "markdown",
   "id": "unauthorized-nickname",
   "metadata": {},
   "source": [
    "## 2. Lightpipeline vs Spark ML pipeline"
   ]
  },
  {
   "cell_type": "code",
   "execution_count": null,
   "id": "published-valuable",
   "metadata": {},
   "outputs": [],
   "source": [
    "from pyspark.sql import Row\n",
    "txt = \"How did serfdom develop in and then leave Russia ?\"\n",
    "line_df = spark.createDataFrame(list(map(lambda x: Row(txt=x), [txt])), [\"text\"])\n",
    "line_df.show()"
   ]
  },
  {
   "cell_type": "code",
   "execution_count": null,
   "id": "regulated-purple",
   "metadata": {},
   "outputs": [],
   "source": [
    "%time result = pipelineModel.transform(line_df).collect()"
   ]
  },
  {
   "cell_type": "code",
   "execution_count": null,
   "id": "manufactured-patent",
   "metadata": {},
   "outputs": [],
   "source": [
    "from sparknlp.base import LightPipeline\n",
    "lightModel = LightPipeline(pipelineModel, parse_embeddings=True)\n",
    "%time lightModel.annotate(\"How did serfdom develop in and then leave Russia ?\");"
   ]
  },
  {
   "cell_type": "code",
   "execution_count": null,
   "id": "sweet-running",
   "metadata": {},
   "outputs": [],
   "source": []
  }
 ],
 "metadata": {
  "kernelspec": {
   "display_name": "nlp",
   "language": "python",
   "name": "nlp"
  },
  "language_info": {
   "codemirror_mode": {
    "name": "ipython",
    "version": 3
   },
   "file_extension": ".py",
   "mimetype": "text/x-python",
   "name": "python",
   "nbconvert_exporter": "python",
   "pygments_lexer": "ipython3",
   "version": "3.8.5"
  }
 },
 "nbformat": 4,
 "nbformat_minor": 5
}
